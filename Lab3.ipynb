{
  "nbformat": 4,
  "nbformat_minor": 0,
  "metadata": {
    "colab": {
      "name": "Lab3.ipynb",
      "provenance": [],
      "collapsed_sections": []
    },
    "kernelspec": {
      "name": "python3",
      "display_name": "Python 3"
    },
    "language_info": {
      "name": "python"
    }
  },
  "cells": [
    {
      "cell_type": "code",
      "metadata": {
        "id": "F9CMTbOfnOSc",
        "colab": {
          "base_uri": "https://localhost:8080/"
        },
        "outputId": "6973f92f-47f5-47b9-aa24-98299b6fef3b"
      },
      "source": [
        "import pandas as pd\n",
        "from google.colab import drive\n",
        "drive.mount('/content/drive')\n",
        "df = pd.read_excel(\"/content/drive/MyDrive/Colab Notebooks/output.xlsx\")\n",
        "df = df.drop(columns='Unnamed: 0') #ненужный столбец с нумерацией записей, избавляемся от него"
      ],
      "execution_count": 1,
      "outputs": [
        {
          "output_type": "stream",
          "text": [
            "Drive already mounted at /content/drive; to attempt to forcibly remount, call drive.mount(\"/content/drive\", force_remount=True).\n"
          ],
          "name": "stdout"
        }
      ]
    },
    {
      "cell_type": "code",
      "metadata": {
        "colab": {
          "base_uri": "https://localhost:8080/"
        },
        "id": "JZ-e7GX-n7k8",
        "outputId": "6a0298db-6ce4-43fb-f2eb-3457e92a4249"
      },
      "source": [
        "df.head"
      ],
      "execution_count": 2,
      "outputs": [
        {
          "output_type": "execute_result",
          "data": {
            "text/plain": [
              "<bound method NDFrame.head of                                                   Name  ...     Subgenre\n",
              "0                                    Cutting for Stone  ...        Novel\n",
              "1                                    Cutting for Stone  ...        Novel\n",
              "2    Milk and Vine: Inspirational Quotes From Class...  ...  Non Fiction\n",
              "3                                 Go the F**k to Sleep  ...       Comedy\n",
              "4    What Should Danny Do? (The Power to Choose Ser...  ...     Children\n",
              "..                                                 ...  ...          ...\n",
              "545             Player's Handbook (Dungeons & Dragons)  ...        Games\n",
              "546             Player's Handbook (Dungeons & Dragons)  ...        Games\n",
              "547             Player's Handbook (Dungeons & Dragons)  ...        Games\n",
              "548  Divine Soul Mind Body Healing and Transmission...  ...  Non Fiction\n",
              "549  Soul Healing Miracles: Ancient and New Sacred ...  ...  Non Fiction\n",
              "\n",
              "[550 rows x 8 columns]>"
            ]
          },
          "metadata": {
            "tags": []
          },
          "execution_count": 2
        }
      ]
    },
    {
      "cell_type": "code",
      "metadata": {
        "colab": {
          "base_uri": "https://localhost:8080/"
        },
        "id": "cAhOQQPAn93y",
        "outputId": "0f4a2c04-4f4d-4c4f-dea8-1b910aa58347"
      },
      "source": [
        "df.dtypes"
      ],
      "execution_count": 3,
      "outputs": [
        {
          "output_type": "execute_result",
          "data": {
            "text/plain": [
              "Name            object\n",
              "Author          object\n",
              "User Rating    float64\n",
              "Reviews          int64\n",
              "Price            int64\n",
              "Year             int64\n",
              "Genre           object\n",
              "Subgenre        object\n",
              "dtype: object"
            ]
          },
          "metadata": {
            "tags": []
          },
          "execution_count": 3
        }
      ]
    },
    {
      "cell_type": "markdown",
      "metadata": {
        "id": "QJKHMvnKo7Jq"
      },
      "source": [
        "В изначальном датасете было разделение только на жанры художественной литературы и не художественной. Чтобы было интереснее анализировать книги попавшие в топ я решил вручную разделить художественную литературу по жанрам в столбце Subgenre (это было быстрее сделать вручную чем парсингом, т.к. не все книги есть на википедии и не у всех отмечен жанр). У не художественных книг в этом столбце остается категория Non Fiction Пример записи из обновленного датасета:"
      ]
    },
    {
      "cell_type": "code",
      "metadata": {
        "colab": {
          "base_uri": "https://localhost:8080/",
          "height": 76
        },
        "id": "K65ZVZfmoA5c",
        "outputId": "f8f6a40c-b057-4db3-ac1d-2aad151cfbe0"
      },
      "source": [
        "df[:1]"
      ],
      "execution_count": 4,
      "outputs": [
        {
          "output_type": "execute_result",
          "data": {
            "text/html": [
              "<div>\n",
              "<style scoped>\n",
              "    .dataframe tbody tr th:only-of-type {\n",
              "        vertical-align: middle;\n",
              "    }\n",
              "\n",
              "    .dataframe tbody tr th {\n",
              "        vertical-align: top;\n",
              "    }\n",
              "\n",
              "    .dataframe thead th {\n",
              "        text-align: right;\n",
              "    }\n",
              "</style>\n",
              "<table border=\"1\" class=\"dataframe\">\n",
              "  <thead>\n",
              "    <tr style=\"text-align: right;\">\n",
              "      <th></th>\n",
              "      <th>Name</th>\n",
              "      <th>Author</th>\n",
              "      <th>User Rating</th>\n",
              "      <th>Reviews</th>\n",
              "      <th>Price</th>\n",
              "      <th>Year</th>\n",
              "      <th>Genre</th>\n",
              "      <th>Subgenre</th>\n",
              "    </tr>\n",
              "  </thead>\n",
              "  <tbody>\n",
              "    <tr>\n",
              "      <th>0</th>\n",
              "      <td>Cutting for Stone</td>\n",
              "      <td>Abraham Verghese</td>\n",
              "      <td>4.6</td>\n",
              "      <td>4866</td>\n",
              "      <td>11</td>\n",
              "      <td>2011</td>\n",
              "      <td>Fiction</td>\n",
              "      <td>Novel</td>\n",
              "    </tr>\n",
              "  </tbody>\n",
              "</table>\n",
              "</div>"
            ],
            "text/plain": [
              "                Name            Author  User Rating  ...  Year    Genre  Subgenre\n",
              "0  Cutting for Stone  Abraham Verghese          4.6  ...  2011  Fiction     Novel\n",
              "\n",
              "[1 rows x 8 columns]"
            ]
          },
          "metadata": {
            "tags": []
          },
          "execution_count": 4
        }
      ]
    },
    {
      "cell_type": "markdown",
      "metadata": {
        "id": "E38cPmWUq-Go"
      },
      "source": [
        "Посмотрим, сколько всего поджанров есть в датасете"
      ]
    },
    {
      "cell_type": "code",
      "metadata": {
        "colab": {
          "base_uri": "https://localhost:8080/"
        },
        "id": "W9SoQbhFq9vm",
        "outputId": "48a38bfb-48fd-46d0-d178-7cf056ebf0a8"
      },
      "source": [
        "subg = set(df['Subgenre'].to_list())\n",
        "print(subg)\n",
        "print(len(subg))"
      ],
      "execution_count": 5,
      "outputs": [
        {
          "output_type": "stream",
          "text": [
            "{'Comics', 'Non Fiction', 'Young Adult fiction', 'Horror', 'Young Adult Fiction', 'Drama', 'Thriller', 'Science fiction', 'Comedy', 'Games', 'Children', 'Historical', 'Fantasy', 'Novel'}\n",
            "14\n"
          ],
          "name": "stdout"
        }
      ]
    },
    {
      "cell_type": "markdown",
      "metadata": {
        "id": "pRz_DcOcskSY"
      },
      "source": [
        "Видим что Young Adult fiction и Young Adult Fiction отличается только регистром, приведем записи с этим полем к одному виду чтобы избежать повторений"
      ]
    },
    {
      "cell_type": "code",
      "metadata": {
        "colab": {
          "base_uri": "https://localhost:8080/"
        },
        "id": "bvOBc1NVqZmC",
        "outputId": "0934ff47-ea76-4f28-c89e-d08e3529f424"
      },
      "source": [
        "for i in range(0,549):\n",
        "  if df['Subgenre'][i]=='Young Adult fiction':\n",
        "    df['Subgenre'][i]='Young Adult Fiction'\n",
        "subg = set(df['Subgenre'].to_list())\n",
        "print(subg)"
      ],
      "execution_count": 6,
      "outputs": [
        {
          "output_type": "stream",
          "text": [
            "{'Comics', 'Non Fiction', 'Horror', 'Young Adult Fiction', 'Drama', 'Thriller', 'Science fiction', 'Comedy', 'Games', 'Children', 'Historical', 'Fantasy', 'Novel'}\n"
          ],
          "name": "stdout"
        },
        {
          "output_type": "stream",
          "text": [
            "/usr/local/lib/python3.7/dist-packages/ipykernel_launcher.py:3: SettingWithCopyWarning: \n",
            "A value is trying to be set on a copy of a slice from a DataFrame\n",
            "\n",
            "See the caveats in the documentation: https://pandas.pydata.org/pandas-docs/stable/user_guide/indexing.html#returning-a-view-versus-a-copy\n",
            "  This is separate from the ipykernel package so we can avoid doing imports until\n"
          ],
          "name": "stderr"
        }
      ]
    },
    {
      "cell_type": "code",
      "metadata": {
        "colab": {
          "base_uri": "https://localhost:8080/"
        },
        "id": "CKgsAfRLynap",
        "outputId": "a2cc1259-66a4-4237-dea6-c9af44a75df8"
      },
      "source": [
        "df.dtypes"
      ],
      "execution_count": 7,
      "outputs": [
        {
          "output_type": "execute_result",
          "data": {
            "text/plain": [
              "Name            object\n",
              "Author          object\n",
              "User Rating    float64\n",
              "Reviews          int64\n",
              "Price            int64\n",
              "Year             int64\n",
              "Genre           object\n",
              "Subgenre        object\n",
              "dtype: object"
            ]
          },
          "metadata": {
            "tags": []
          },
          "execution_count": 7
        }
      ]
    },
    {
      "cell_type": "markdown",
      "metadata": {
        "id": "0-AjRLONys5v"
      },
      "source": [
        "Проанализируем, какие данные мы ожмдаем увидеть в датасете:\n",
        "\n",
        "**Name** - название книги, строка, в датафрейме данное поле имеет тип object что является верным, интервала определеных значений не имеет\n",
        "\n",
        "**Author** - имя автора, строка, в датафрейме данное поле имеет тип object что является верным, интервала определеных значений не имеет\n",
        "\n",
        "**User rating** - средний рейтинг пользователей, число с плавающей точкой, в датафрейме данное поле имеет тип float64 что является верным, интервал значений (0.0,5.0]\n",
        "\n",
        "**Reviews** - число отзывов на книгу, целое число, в датафрейме данное поле имеет тип int64 что является верным, заданного интервала значений не имеет\n",
        "\n",
        "**Price** - цена книги, целое число, в датафрейме данное поле имеет тип int64 что является верным, интервал значений >0\n",
        "\n",
        "**Year** - год в котором книга попала в топ, целое число, в датафрейме данное поле имеет тип int64 что является верным, диапазон значений {2009,2010,2011,2012,2013,2014,2015,2016,2017,2018,2019}\n",
        "\n",
        "**Genre** - жанр книги, строка, в датафрейме данное поле имеет тип object что является верным, может принимать только значения Fiction/Non Fiction\n",
        "\n",
        "Subgenre - поджанр книги, строка, в датасете имеет тип object что является верным, диапазон значений {'Thriller', 'Comedy', 'Non Fiction', 'Comics', 'Games', 'Young Adult Fiction', 'Historical', 'Children', 'Science fiction', 'Novel', 'Fantasy', 'Horror', 'Drama'}\n"
      ]
    },
    {
      "cell_type": "markdown",
      "metadata": {
        "id": "mYj7AN1Zt5dl"
      },
      "source": [
        "Проверим данные в столбце 'Genre' т.к. там должно быть только два вида записей"
      ]
    },
    {
      "cell_type": "code",
      "metadata": {
        "colab": {
          "base_uri": "https://localhost:8080/"
        },
        "id": "2eWT9CwTuH6f",
        "outputId": "27171af9-91fe-42d7-d7e2-b52e392e704d"
      },
      "source": [
        "df['Genre'].unique()"
      ],
      "execution_count": 8,
      "outputs": [
        {
          "output_type": "execute_result",
          "data": {
            "text/plain": [
              "array(['Fiction', 'Non Fiction'], dtype=object)"
            ]
          },
          "metadata": {
            "tags": []
          },
          "execution_count": 8
        }
      ]
    },
    {
      "cell_type": "markdown",
      "metadata": {
        "id": "Hg47gYymubYA"
      },
      "source": [
        "Данные в столбцах Name, Author, Price, Reviews не находятся в пределах каких-то интервала, а вот столбцы User Rating и Year нужно проверить"
      ]
    },
    {
      "cell_type": "code",
      "metadata": {
        "colab": {
          "base_uri": "https://localhost:8080/"
        },
        "id": "CYD8V7iwxZPq",
        "outputId": "8416234a-27c8-489d-b036-d25ef5c1f212"
      },
      "source": [
        "df['User Rating'].unique()"
      ],
      "execution_count": 9,
      "outputs": [
        {
          "output_type": "execute_result",
          "data": {
            "text/plain": [
              "array([4.6, 4.4, 4.8, 4.7, 4.5, 4.9, 4.3, 4.2, 4.1, 3.9, 3.8, 4. , 3.6,\n",
              "       3.3])"
            ]
          },
          "metadata": {
            "tags": []
          },
          "execution_count": 9
        }
      ]
    },
    {
      "cell_type": "markdown",
      "metadata": {
        "id": "6akaryhAxg54"
      },
      "source": [
        "Выхода за интервал значений нет, но проверяем, что 4. это то же самое что 4.0 и 4, а не ошибка данных"
      ]
    },
    {
      "cell_type": "code",
      "metadata": {
        "colab": {
          "base_uri": "https://localhost:8080/",
          "height": 458
        },
        "id": "f9brWG8dv9G1",
        "outputId": "81f59484-2680-4840-890a-d22f040d2233"
      },
      "source": [
        "df.loc[df['User Rating'] == 4 ]"
      ],
      "execution_count": 10,
      "outputs": [
        {
          "output_type": "execute_result",
          "data": {
            "text/html": [
              "<div>\n",
              "<style scoped>\n",
              "    .dataframe tbody tr th:only-of-type {\n",
              "        vertical-align: middle;\n",
              "    }\n",
              "\n",
              "    .dataframe tbody tr th {\n",
              "        vertical-align: top;\n",
              "    }\n",
              "\n",
              "    .dataframe thead th {\n",
              "        text-align: right;\n",
              "    }\n",
              "</style>\n",
              "<table border=\"1\" class=\"dataframe\">\n",
              "  <thead>\n",
              "    <tr style=\"text-align: right;\">\n",
              "      <th></th>\n",
              "      <th>Name</th>\n",
              "      <th>Author</th>\n",
              "      <th>User Rating</th>\n",
              "      <th>Reviews</th>\n",
              "      <th>Price</th>\n",
              "      <th>Year</th>\n",
              "      <th>Genre</th>\n",
              "      <th>Subgenre</th>\n",
              "    </tr>\n",
              "  </thead>\n",
              "  <tbody>\n",
              "    <tr>\n",
              "      <th>180</th>\n",
              "      <td>StrengthsFinder 2.0</td>\n",
              "      <td>Gallup</td>\n",
              "      <td>4.0</td>\n",
              "      <td>5069</td>\n",
              "      <td>17</td>\n",
              "      <td>2013</td>\n",
              "      <td>Non Fiction</td>\n",
              "      <td>Non Fiction</td>\n",
              "    </tr>\n",
              "    <tr>\n",
              "      <th>181</th>\n",
              "      <td>StrengthsFinder 2.0</td>\n",
              "      <td>Gallup</td>\n",
              "      <td>4.0</td>\n",
              "      <td>5069</td>\n",
              "      <td>17</td>\n",
              "      <td>2010</td>\n",
              "      <td>Non Fiction</td>\n",
              "      <td>Non Fiction</td>\n",
              "    </tr>\n",
              "    <tr>\n",
              "      <th>182</th>\n",
              "      <td>StrengthsFinder 2.0</td>\n",
              "      <td>Gallup</td>\n",
              "      <td>4.0</td>\n",
              "      <td>5069</td>\n",
              "      <td>17</td>\n",
              "      <td>2009</td>\n",
              "      <td>Non Fiction</td>\n",
              "      <td>Non Fiction</td>\n",
              "    </tr>\n",
              "    <tr>\n",
              "      <th>183</th>\n",
              "      <td>StrengthsFinder 2.0</td>\n",
              "      <td>Gallup</td>\n",
              "      <td>4.0</td>\n",
              "      <td>5069</td>\n",
              "      <td>17</td>\n",
              "      <td>2014</td>\n",
              "      <td>Non Fiction</td>\n",
              "      <td>Non Fiction</td>\n",
              "    </tr>\n",
              "    <tr>\n",
              "      <th>184</th>\n",
              "      <td>StrengthsFinder 2.0</td>\n",
              "      <td>Gallup</td>\n",
              "      <td>4.0</td>\n",
              "      <td>5069</td>\n",
              "      <td>17</td>\n",
              "      <td>2015</td>\n",
              "      <td>Non Fiction</td>\n",
              "      <td>Non Fiction</td>\n",
              "    </tr>\n",
              "    <tr>\n",
              "      <th>185</th>\n",
              "      <td>StrengthsFinder 2.0</td>\n",
              "      <td>Gallup</td>\n",
              "      <td>4.0</td>\n",
              "      <td>5069</td>\n",
              "      <td>17</td>\n",
              "      <td>2016</td>\n",
              "      <td>Non Fiction</td>\n",
              "      <td>Non Fiction</td>\n",
              "    </tr>\n",
              "    <tr>\n",
              "      <th>186</th>\n",
              "      <td>StrengthsFinder 2.0</td>\n",
              "      <td>Gallup</td>\n",
              "      <td>4.0</td>\n",
              "      <td>5069</td>\n",
              "      <td>17</td>\n",
              "      <td>2017</td>\n",
              "      <td>Non Fiction</td>\n",
              "      <td>Non Fiction</td>\n",
              "    </tr>\n",
              "    <tr>\n",
              "      <th>187</th>\n",
              "      <td>StrengthsFinder 2.0</td>\n",
              "      <td>Gallup</td>\n",
              "      <td>4.0</td>\n",
              "      <td>5069</td>\n",
              "      <td>17</td>\n",
              "      <td>2011</td>\n",
              "      <td>Non Fiction</td>\n",
              "      <td>Non Fiction</td>\n",
              "    </tr>\n",
              "    <tr>\n",
              "      <th>188</th>\n",
              "      <td>StrengthsFinder 2.0</td>\n",
              "      <td>Gallup</td>\n",
              "      <td>4.0</td>\n",
              "      <td>5069</td>\n",
              "      <td>17</td>\n",
              "      <td>2012</td>\n",
              "      <td>Non Fiction</td>\n",
              "      <td>Non Fiction</td>\n",
              "    </tr>\n",
              "    <tr>\n",
              "      <th>216</th>\n",
              "      <td>Gone Girl</td>\n",
              "      <td>Gillian Flynn</td>\n",
              "      <td>4.0</td>\n",
              "      <td>57271</td>\n",
              "      <td>9</td>\n",
              "      <td>2014</td>\n",
              "      <td>Fiction</td>\n",
              "      <td>Thriller</td>\n",
              "    </tr>\n",
              "    <tr>\n",
              "      <th>217</th>\n",
              "      <td>Gone Girl</td>\n",
              "      <td>Gillian Flynn</td>\n",
              "      <td>4.0</td>\n",
              "      <td>57271</td>\n",
              "      <td>10</td>\n",
              "      <td>2013</td>\n",
              "      <td>Fiction</td>\n",
              "      <td>Thriller</td>\n",
              "    </tr>\n",
              "    <tr>\n",
              "      <th>218</th>\n",
              "      <td>Gone Girl</td>\n",
              "      <td>Gillian Flynn</td>\n",
              "      <td>4.0</td>\n",
              "      <td>57271</td>\n",
              "      <td>10</td>\n",
              "      <td>2012</td>\n",
              "      <td>Fiction</td>\n",
              "      <td>Thriller</td>\n",
              "    </tr>\n",
              "    <tr>\n",
              "      <th>245</th>\n",
              "      <td>Harry Potter and the Cursed Child, Parts 1 &amp; 2...</td>\n",
              "      <td>J.K. Rowling</td>\n",
              "      <td>4.0</td>\n",
              "      <td>23973</td>\n",
              "      <td>12</td>\n",
              "      <td>2016</td>\n",
              "      <td>Fiction</td>\n",
              "      <td>Fantasy</td>\n",
              "    </tr>\n",
              "    <tr>\n",
              "      <th>362</th>\n",
              "      <td>The Elegance of the Hedgehog</td>\n",
              "      <td>Muriel Barbery</td>\n",
              "      <td>4.0</td>\n",
              "      <td>1859</td>\n",
              "      <td>11</td>\n",
              "      <td>2009</td>\n",
              "      <td>Fiction</td>\n",
              "      <td>Novel</td>\n",
              "    </tr>\n",
              "  </tbody>\n",
              "</table>\n",
              "</div>"
            ],
            "text/plain": [
              "                                                  Name  ...     Subgenre\n",
              "180                                StrengthsFinder 2.0  ...  Non Fiction\n",
              "181                                StrengthsFinder 2.0  ...  Non Fiction\n",
              "182                                StrengthsFinder 2.0  ...  Non Fiction\n",
              "183                                StrengthsFinder 2.0  ...  Non Fiction\n",
              "184                                StrengthsFinder 2.0  ...  Non Fiction\n",
              "185                                StrengthsFinder 2.0  ...  Non Fiction\n",
              "186                                StrengthsFinder 2.0  ...  Non Fiction\n",
              "187                                StrengthsFinder 2.0  ...  Non Fiction\n",
              "188                                StrengthsFinder 2.0  ...  Non Fiction\n",
              "216                                          Gone Girl  ...     Thriller\n",
              "217                                          Gone Girl  ...     Thriller\n",
              "218                                          Gone Girl  ...     Thriller\n",
              "245  Harry Potter and the Cursed Child, Parts 1 & 2...  ...      Fantasy\n",
              "362                       The Elegance of the Hedgehog  ...        Novel\n",
              "\n",
              "[14 rows x 8 columns]"
            ]
          },
          "metadata": {
            "tags": []
          },
          "execution_count": 10
        }
      ]
    },
    {
      "cell_type": "markdown",
      "metadata": {
        "id": "qKqJ4sCw3Ik0"
      },
      "source": [
        "Проверим, что в столбце Price нет нулевых значений:"
      ]
    },
    {
      "cell_type": "code",
      "metadata": {
        "colab": {
          "base_uri": "https://localhost:8080/",
          "height": 399
        },
        "id": "1h9J2W5M2lsX",
        "outputId": "b5c9e61b-b7fd-4ca8-f358-86f5f193cc2e"
      },
      "source": [
        "df.loc[df['Price'] <= 0 ]"
      ],
      "execution_count": 11,
      "outputs": [
        {
          "output_type": "execute_result",
          "data": {
            "text/html": [
              "<div>\n",
              "<style scoped>\n",
              "    .dataframe tbody tr th:only-of-type {\n",
              "        vertical-align: middle;\n",
              "    }\n",
              "\n",
              "    .dataframe tbody tr th {\n",
              "        vertical-align: top;\n",
              "    }\n",
              "\n",
              "    .dataframe thead th {\n",
              "        text-align: right;\n",
              "    }\n",
              "</style>\n",
              "<table border=\"1\" class=\"dataframe\">\n",
              "  <thead>\n",
              "    <tr style=\"text-align: right;\">\n",
              "      <th></th>\n",
              "      <th>Name</th>\n",
              "      <th>Author</th>\n",
              "      <th>User Rating</th>\n",
              "      <th>Reviews</th>\n",
              "      <th>Price</th>\n",
              "      <th>Year</th>\n",
              "      <th>Genre</th>\n",
              "      <th>Subgenre</th>\n",
              "    </tr>\n",
              "  </thead>\n",
              "  <tbody>\n",
              "    <tr>\n",
              "      <th>9</th>\n",
              "      <td>Little Blue Truck</td>\n",
              "      <td>Alice Schertle</td>\n",
              "      <td>4.9</td>\n",
              "      <td>1884</td>\n",
              "      <td>0</td>\n",
              "      <td>2014</td>\n",
              "      <td>Fiction</td>\n",
              "      <td>Children</td>\n",
              "    </tr>\n",
              "    <tr>\n",
              "      <th>116</th>\n",
              "      <td>The Constitution of the United States</td>\n",
              "      <td>Delegates of the Constitutional</td>\n",
              "      <td>4.8</td>\n",
              "      <td>2774</td>\n",
              "      <td>0</td>\n",
              "      <td>2016</td>\n",
              "      <td>Non Fiction</td>\n",
              "      <td>Non Fiction</td>\n",
              "    </tr>\n",
              "    <tr>\n",
              "      <th>225</th>\n",
              "      <td>Go Set a Watchman: A Novel</td>\n",
              "      <td>Harper Lee</td>\n",
              "      <td>4.8</td>\n",
              "      <td>26234</td>\n",
              "      <td>0</td>\n",
              "      <td>2014</td>\n",
              "      <td>Fiction</td>\n",
              "      <td>Novel</td>\n",
              "    </tr>\n",
              "    <tr>\n",
              "      <th>227</th>\n",
              "      <td>To Kill a Mockingbird</td>\n",
              "      <td>Harper Lee</td>\n",
              "      <td>4.8</td>\n",
              "      <td>26234</td>\n",
              "      <td>0</td>\n",
              "      <td>2015</td>\n",
              "      <td>Fiction</td>\n",
              "      <td>Novel</td>\n",
              "    </tr>\n",
              "    <tr>\n",
              "      <th>228</th>\n",
              "      <td>To Kill a Mockingbird</td>\n",
              "      <td>Harper Lee</td>\n",
              "      <td>4.8</td>\n",
              "      <td>26234</td>\n",
              "      <td>0</td>\n",
              "      <td>2016</td>\n",
              "      <td>Fiction</td>\n",
              "      <td>Novel</td>\n",
              "    </tr>\n",
              "    <tr>\n",
              "      <th>229</th>\n",
              "      <td>To Kill a Mockingbird</td>\n",
              "      <td>Harper Lee</td>\n",
              "      <td>4.8</td>\n",
              "      <td>26234</td>\n",
              "      <td>0</td>\n",
              "      <td>2013</td>\n",
              "      <td>Fiction</td>\n",
              "      <td>Novel</td>\n",
              "    </tr>\n",
              "    <tr>\n",
              "      <th>258</th>\n",
              "      <td>Diary of a Wimpy Kid: The Long Haul</td>\n",
              "      <td>Jeff Kinney</td>\n",
              "      <td>4.8</td>\n",
              "      <td>4505</td>\n",
              "      <td>0</td>\n",
              "      <td>2011</td>\n",
              "      <td>Fiction</td>\n",
              "      <td>Children</td>\n",
              "    </tr>\n",
              "    <tr>\n",
              "      <th>260</th>\n",
              "      <td>Double Down (Diary of a Wimpy Kid #11)</td>\n",
              "      <td>Jeff Kinney</td>\n",
              "      <td>4.8</td>\n",
              "      <td>5836</td>\n",
              "      <td>0</td>\n",
              "      <td>2017</td>\n",
              "      <td>Fiction</td>\n",
              "      <td>Children</td>\n",
              "    </tr>\n",
              "    <tr>\n",
              "      <th>264</th>\n",
              "      <td>The Third Wheel (Diary of a Wimpy Kid, Book 7)</td>\n",
              "      <td>Jeff Kinney</td>\n",
              "      <td>4.8</td>\n",
              "      <td>6812</td>\n",
              "      <td>0</td>\n",
              "      <td>2013</td>\n",
              "      <td>Fiction</td>\n",
              "      <td>Children</td>\n",
              "    </tr>\n",
              "    <tr>\n",
              "      <th>404</th>\n",
              "      <td>Frozen (Little Golden Book)</td>\n",
              "      <td>RH Disney</td>\n",
              "      <td>4.7</td>\n",
              "      <td>3642</td>\n",
              "      <td>0</td>\n",
              "      <td>2014</td>\n",
              "      <td>Fiction</td>\n",
              "      <td>Children</td>\n",
              "    </tr>\n",
              "    <tr>\n",
              "      <th>405</th>\n",
              "      <td>JOURNEY TO THE ICE P</td>\n",
              "      <td>RH Disney</td>\n",
              "      <td>4.6</td>\n",
              "      <td>978</td>\n",
              "      <td>0</td>\n",
              "      <td>2014</td>\n",
              "      <td>Fiction</td>\n",
              "      <td>Children</td>\n",
              "    </tr>\n",
              "    <tr>\n",
              "      <th>482</th>\n",
              "      <td>New Moon (The Twilight Saga)</td>\n",
              "      <td>Stephenie Meyer</td>\n",
              "      <td>4.6</td>\n",
              "      <td>2122</td>\n",
              "      <td>0</td>\n",
              "      <td>2010</td>\n",
              "      <td>Fiction</td>\n",
              "      <td>Young Adult Fiction</td>\n",
              "    </tr>\n",
              "  </tbody>\n",
              "</table>\n",
              "</div>"
            ],
            "text/plain": [
              "                                               Name  ...             Subgenre\n",
              "9                                 Little Blue Truck  ...             Children\n",
              "116           The Constitution of the United States  ...          Non Fiction\n",
              "225                      Go Set a Watchman: A Novel  ...                Novel\n",
              "227                           To Kill a Mockingbird  ...                Novel\n",
              "228                           To Kill a Mockingbird  ...                Novel\n",
              "229                           To Kill a Mockingbird  ...                Novel\n",
              "258             Diary of a Wimpy Kid: The Long Haul  ...             Children\n",
              "260          Double Down (Diary of a Wimpy Kid #11)  ...             Children\n",
              "264  The Third Wheel (Diary of a Wimpy Kid, Book 7)  ...             Children\n",
              "404                     Frozen (Little Golden Book)  ...             Children\n",
              "405                            JOURNEY TO THE ICE P  ...             Children\n",
              "482                    New Moon (The Twilight Saga)  ...  Young Adult Fiction\n",
              "\n",
              "[12 rows x 8 columns]"
            ]
          },
          "metadata": {
            "tags": []
          },
          "execution_count": 11
        }
      ]
    },
    {
      "cell_type": "markdown",
      "metadata": {
        "id": "LsEAcYOa3RVY"
      },
      "source": [
        "К сожалению, такие нулевые значения есть. Однако после проверки данных на сайте Amazon я выяснил, что данная цена реальна и в датасете указывается самая дешевая стоимость(а т.к. самая дешевая стоимость в приложении Amazon с электронными книгами, то некоторые книги действительно бесплатные.\n",
        "\n",
        "Проверям столбец Year"
      ]
    },
    {
      "cell_type": "code",
      "metadata": {
        "colab": {
          "base_uri": "https://localhost:8080/"
        },
        "id": "Xb4yuyyKxuwh",
        "outputId": "25368c35-ae92-483c-90ce-9ff5b2ecd3cd"
      },
      "source": [
        "df['Year'].unique()"
      ],
      "execution_count": 12,
      "outputs": [
        {
          "output_type": "execute_result",
          "data": {
            "text/plain": [
              "array([2011, 2010, 2017, 2019, 2016, 2009, 2014, 2013, 2015, 2018, 2012])"
            ]
          },
          "metadata": {
            "tags": []
          },
          "execution_count": 12
        }
      ]
    },
    {
      "cell_type": "markdown",
      "metadata": {
        "id": "XYxxqVgfxqW2"
      },
      "source": [
        "В стобце Year никаких отклонений нет. Проверим весь датафрейм на наличие пустых значений:"
      ]
    },
    {
      "cell_type": "code",
      "metadata": {
        "colab": {
          "base_uri": "https://localhost:8080/"
        },
        "id": "QLET9njt2Mm6",
        "outputId": "af1910c7-fa5c-4fc6-9af7-3d2d9bba34a4"
      },
      "source": [
        "df.isnull().values.any()"
      ],
      "execution_count": 13,
      "outputs": [
        {
          "output_type": "execute_result",
          "data": {
            "text/plain": [
              "False"
            ]
          },
          "metadata": {
            "tags": []
          },
          "execution_count": 13
        }
      ]
    },
    {
      "cell_type": "markdown",
      "metadata": {
        "id": "yYSxyKlu2VUg"
      },
      "source": [
        "Пустых значений нет, можем сделать вывод, что все данные в датасете имеют корректный тип и находятся в пределах допустимых значений"
      ]
    }
  ]
}